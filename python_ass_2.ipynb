{
  "nbformat": 4,
  "nbformat_minor": 0,
  "metadata": {
    "colab": {
      "provenance": [],
      "authorship_tag": "ABX9TyPwjR4cZ0L6lAun96elxk1x",
      "include_colab_link": true
    },
    "kernelspec": {
      "name": "python3",
      "display_name": "Python 3"
    },
    "language_info": {
      "name": "python"
    }
  },
  "cells": [
    {
      "cell_type": "markdown",
      "metadata": {
        "id": "view-in-github",
        "colab_type": "text"
      },
      "source": [
        "<a href=\"https://colab.research.google.com/github/khushi2068/python_assignment_2/blob/main/python_ass_2.ipynb\" target=\"_parent\"><img src=\"https://colab.research.google.com/assets/colab-badge.svg\" alt=\"Open In Colab\"/></a>"
      ]
    },
    {
      "cell_type": "markdown",
      "source": [
        "1. Write a python program to sort the list of heterogeneous data. \n",
        "e.g. \n"
      ],
      "metadata": {
        "id": "PymAe25pcpBG"
      }
    },
    {
      "cell_type": "code",
      "source": [
        "# L = [\"Ram\", 1, \"Shyam\", 2, \"Aman\", 3]\n",
        "# print(L)\n",
        "# L.sort()\n",
        "# print(L)\n",
        "# # Above code gives error. Correct it"
      ],
      "metadata": {
        "id": "FLzCusFYc1vC"
      },
      "execution_count": null,
      "outputs": []
    },
    {
      "cell_type": "code",
      "execution_count": 2,
      "metadata": {
        "colab": {
          "base_uri": "https://localhost:8080/"
        },
        "id": "nHkRdPkabzGe",
        "outputId": "c276e8cc-ea60-4287-d347-419d00a57c77"
      },
      "outputs": [
        {
          "output_type": "stream",
          "name": "stdout",
          "text": [
            "[1, 2, 3, 'Aman', 'Ram', 'Shyam']\n"
          ]
        }
      ],
      "source": [
        "L = [\"Ram\", 1, \"Shyam\", 2, \"Aman\", 3]\n",
        "LN=[]\n",
        "LS=[]\n",
        "\n",
        "for i in L:\n",
        "  if str(i).isnumeric():\n",
        "    LN.append(int(i))\n",
        "  else:\n",
        "    LS.append(i)\n",
        "\n",
        "LN.sort()\n",
        "LS.sort()\n",
        "\n",
        "L=LN\n",
        "LN.extend(LS)\n",
        "print(L)"
      ]
    }
  ]
}